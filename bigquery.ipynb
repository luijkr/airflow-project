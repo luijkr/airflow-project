{
 "cells": [
  {
   "cell_type": "code",
   "execution_count": 1,
   "metadata": {},
   "outputs": [],
   "source": [
    "import pandas as pd\n",
    "from datetime import datetime, timedelta"
   ]
  },
  {
   "cell_type": "code",
   "execution_count": 2,
   "metadata": {},
   "outputs": [],
   "source": [
    "# set parameters\n",
    "project_id = \"apply-ds-test-297613\"\n",
    "current_date = (datetime.now() - timedelta(days=60)).strftime(\"%Y-%m-%d\")\n",
    "covid_county = \"Cook County\"\n",
    "covid_state = \"IL\""
   ]
  },
  {
   "cell_type": "markdown",
   "metadata": {},
   "source": [
    "## Covid data"
   ]
  },
  {
   "cell_type": "code",
   "execution_count": 3,
   "metadata": {},
   "outputs": [
    {
     "name": "stdout",
     "output_type": "stream",
     "text": [
      "\n",
      "    SELECT state, county_name, DATE(date) AS date, confirmed_cases, deaths\n",
      "    FROM bigquery-public-data.covid19_usafacts.summary\n",
      "    WHERE date='2020-10-18' and state='IL' and county_name='Cook County'\n",
      "\n"
     ]
    }
   ],
   "source": [
    "# create query for covid data\n",
    "covid_query = \"\"\"\n",
    "    SELECT state, county_name, DATE(date) AS date, confirmed_cases, deaths\n",
    "    FROM bigquery-public-data.covid19_usafacts.summary\n",
    "    WHERE date='{0}' and state='{1}' and county_name='{2}'\n",
    "\"\"\".format(current_date, covid_state, covid_county)\n",
    "\n",
    "print(covid_query)"
   ]
  },
  {
   "cell_type": "code",
   "execution_count": 4,
   "metadata": {},
   "outputs": [
    {
     "data": {
      "text/html": [
       "<div>\n",
       "<style scoped>\n",
       "    .dataframe tbody tr th:only-of-type {\n",
       "        vertical-align: middle;\n",
       "    }\n",
       "\n",
       "    .dataframe tbody tr th {\n",
       "        vertical-align: top;\n",
       "    }\n",
       "\n",
       "    .dataframe thead th {\n",
       "        text-align: right;\n",
       "    }\n",
       "</style>\n",
       "<table border=\"1\" class=\"dataframe\">\n",
       "  <thead>\n",
       "    <tr style=\"text-align: right;\">\n",
       "      <th></th>\n",
       "      <th>state</th>\n",
       "      <th>county_name</th>\n",
       "      <th>date</th>\n",
       "      <th>confirmed_cases</th>\n",
       "      <th>deaths</th>\n",
       "    </tr>\n",
       "  </thead>\n",
       "  <tbody>\n",
       "    <tr>\n",
       "      <th>0</th>\n",
       "      <td>IL</td>\n",
       "      <td>Cook County</td>\n",
       "      <td>2020-10-18</td>\n",
       "      <td>163912.000000000</td>\n",
       "      <td>5357.000000000</td>\n",
       "    </tr>\n",
       "  </tbody>\n",
       "</table>\n",
       "</div>"
      ],
      "text/plain": [
       "  state  county_name       date   confirmed_cases          deaths\n",
       "0    IL  Cook County 2020-10-18  163912.000000000  5357.000000000"
      ]
     },
     "execution_count": 4,
     "metadata": {},
     "output_type": "execute_result"
    }
   ],
   "source": [
    "# query covid data\n",
    "covid = pd.read_gbq(covid_query, project_id=project_id, dialect='standard')\n",
    "covid"
   ]
  },
  {
   "cell_type": "markdown",
   "metadata": {},
   "source": [
    "## Chicago crime data"
   ]
  },
  {
   "cell_type": "code",
   "execution_count": 5,
   "metadata": {},
   "outputs": [
    {
     "name": "stdout",
     "output_type": "stream",
     "text": [
      "\n",
      "    SELECT DATE(date) as date, primary_type, domestic, count(*) AS num_cases\n",
      "    FROM bigquery-public-data.chicago_crime.crime\n",
      "    WHERE DATE(date)='2020-10-18'\n",
      "    GROUP BY DATE(date), primary_type, domestic\n",
      "\n"
     ]
    }
   ],
   "source": [
    "# create query for crime data\n",
    "crime_query = \"\"\"\n",
    "    SELECT DATE(date) as date, primary_type, domestic, count(*) AS num_cases\n",
    "    FROM bigquery-public-data.chicago_crime.crime\n",
    "    WHERE DATE(date)='{0}'\n",
    "    GROUP BY DATE(date), primary_type, domestic\n",
    "\"\"\".format(current_date)\n",
    "\n",
    "print(crime_query)"
   ]
  },
  {
   "cell_type": "markdown",
   "metadata": {},
   "source": [
    "## Merge datasets"
   ]
  },
  {
   "cell_type": "code",
   "execution_count": 6,
   "metadata": {},
   "outputs": [
    {
     "data": {
      "text/html": [
       "<div>\n",
       "<style scoped>\n",
       "    .dataframe tbody tr th:only-of-type {\n",
       "        vertical-align: middle;\n",
       "    }\n",
       "\n",
       "    .dataframe tbody tr th {\n",
       "        vertical-align: top;\n",
       "    }\n",
       "\n",
       "    .dataframe thead th {\n",
       "        text-align: right;\n",
       "    }\n",
       "</style>\n",
       "<table border=\"1\" class=\"dataframe\">\n",
       "  <thead>\n",
       "    <tr style=\"text-align: right;\">\n",
       "      <th></th>\n",
       "      <th>date</th>\n",
       "      <th>primary_type</th>\n",
       "      <th>domestic</th>\n",
       "      <th>num_cases</th>\n",
       "    </tr>\n",
       "  </thead>\n",
       "  <tbody>\n",
       "    <tr>\n",
       "      <th>0</th>\n",
       "      <td>2020-10-18</td>\n",
       "      <td>DECEPTIVE PRACTICE</td>\n",
       "      <td>False</td>\n",
       "      <td>75</td>\n",
       "    </tr>\n",
       "    <tr>\n",
       "      <th>1</th>\n",
       "      <td>2020-10-18</td>\n",
       "      <td>WEAPONS VIOLATION</td>\n",
       "      <td>False</td>\n",
       "      <td>19</td>\n",
       "    </tr>\n",
       "    <tr>\n",
       "      <th>2</th>\n",
       "      <td>2020-10-18</td>\n",
       "      <td>OTHER OFFENSE</td>\n",
       "      <td>False</td>\n",
       "      <td>12</td>\n",
       "    </tr>\n",
       "    <tr>\n",
       "      <th>3</th>\n",
       "      <td>2020-10-18</td>\n",
       "      <td>OFFENSE INVOLVING CHILDREN</td>\n",
       "      <td>False</td>\n",
       "      <td>2</td>\n",
       "    </tr>\n",
       "    <tr>\n",
       "      <th>4</th>\n",
       "      <td>2020-10-18</td>\n",
       "      <td>BATTERY</td>\n",
       "      <td>False</td>\n",
       "      <td>49</td>\n",
       "    </tr>\n",
       "  </tbody>\n",
       "</table>\n",
       "</div>"
      ],
      "text/plain": [
       "        date                primary_type  domestic  num_cases\n",
       "0 2020-10-18          DECEPTIVE PRACTICE     False         75\n",
       "1 2020-10-18           WEAPONS VIOLATION     False         19\n",
       "2 2020-10-18               OTHER OFFENSE     False         12\n",
       "3 2020-10-18  OFFENSE INVOLVING CHILDREN     False          2\n",
       "4 2020-10-18                     BATTERY     False         49"
      ]
     },
     "execution_count": 6,
     "metadata": {},
     "output_type": "execute_result"
    }
   ],
   "source": [
    "# query Chicago crime data\n",
    "crime = pd.read_gbq(crime_query, project_id=project_id, dialect='standard')\n",
    "crime.head()"
   ]
  },
  {
   "cell_type": "code",
   "execution_count": 69,
   "metadata": {},
   "outputs": [
    {
     "data": {
      "text/html": [
       "<div>\n",
       "<style scoped>\n",
       "    .dataframe tbody tr th:only-of-type {\n",
       "        vertical-align: middle;\n",
       "    }\n",
       "\n",
       "    .dataframe tbody tr th {\n",
       "        vertical-align: top;\n",
       "    }\n",
       "\n",
       "    .dataframe thead th {\n",
       "        text-align: right;\n",
       "    }\n",
       "</style>\n",
       "<table border=\"1\" class=\"dataframe\">\n",
       "  <thead>\n",
       "    <tr style=\"text-align: right;\">\n",
       "      <th>domestic</th>\n",
       "      <th>False</th>\n",
       "      <th>True</th>\n",
       "    </tr>\n",
       "  </thead>\n",
       "  <tbody>\n",
       "    <tr>\n",
       "      <th>num_cases</th>\n",
       "      <td>427</td>\n",
       "      <td>125</td>\n",
       "    </tr>\n",
       "  </tbody>\n",
       "</table>\n",
       "</div>"
      ],
      "text/plain": [
       "domestic   False  True \n",
       "num_cases    427    125"
      ]
     },
     "execution_count": 69,
     "metadata": {},
     "output_type": "execute_result"
    }
   ],
   "source": [
    "# create counts by date and domestic (yes/no)\n",
    "crime \\\n",
    "    .groupby([\"domestic\"])[\"num_cases\"] \\\n",
    "    .sum() \\\n",
    "    .reset_index() \\\n",
    "    .set_index(\"domestic\") \\\n",
    "    .transpose()"
   ]
  },
  {
   "cell_type": "code",
   "execution_count": null,
   "metadata": {},
   "outputs": [],
   "source": []
  }
 ],
 "metadata": {
  "kernelspec": {
   "display_name": "airflow-venv",
   "language": "python",
   "name": "airflow-venv"
  },
  "language_info": {
   "codemirror_mode": {
    "name": "ipython",
    "version": 3
   },
   "file_extension": ".py",
   "mimetype": "text/x-python",
   "name": "python",
   "nbconvert_exporter": "python",
   "pygments_lexer": "ipython3",
   "version": "3.7.5"
  }
 },
 "nbformat": 4,
 "nbformat_minor": 4
}
